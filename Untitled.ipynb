{
 "cells": [
  {
   "cell_type": "code",
   "execution_count": 3,
   "id": "b1b499a7-d792-4099-a8b3-c056ec387efb",
   "metadata": {},
   "outputs": [
    {
     "name": "stdout",
     "output_type": "stream",
     "text": [
      "Shape of data: (75, 50, 7)\n",
      "Number of sequences: 75\n",
      "Sequence length: 50\n",
      "Number of features per step: 7\n"
     ]
    }
   ],
   "source": [
    "import numpy as np\n",
    "\n",
    "# Load the saved file\n",
    "data = np.load(\"mario_sequences.npy\")\n",
    "\n",
    "# Print shape\n",
    "print(\"Shape of data:\", data.shape)\n",
    "\n",
    "# Extract details\n",
    "num_sequences, sequence_length, num_features = data.shape\n",
    "print(f\"Number of sequences: {num_sequences}\")\n",
    "print(f\"Sequence length: {sequence_length}\")\n",
    "print(f\"Number of features per step: {num_features}\")\n"
   ]
  },
  {
   "cell_type": "code",
   "execution_count": null,
   "id": "be5c81a2-c8f2-470a-b454-40544135ed6e",
   "metadata": {},
   "outputs": [],
   "source": []
  }
 ],
 "metadata": {
  "kernelspec": {
   "display_name": "Python 3 (ipykernel)",
   "language": "python",
   "name": "python3"
  },
  "language_info": {
   "codemirror_mode": {
    "name": "ipython",
    "version": 3
   },
   "file_extension": ".py",
   "mimetype": "text/x-python",
   "name": "python",
   "nbconvert_exporter": "python",
   "pygments_lexer": "ipython3",
   "version": "3.13.1"
  }
 },
 "nbformat": 4,
 "nbformat_minor": 5
}
